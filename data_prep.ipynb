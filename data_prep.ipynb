{
 "cells": [
  {
   "cell_type": "code",
   "execution_count": 7,
   "id": "59969151-7536-423e-b6e7-61e7110954ed",
   "metadata": {},
   "outputs": [
    {
     "data": {
      "text/html": [
       "<div>\n",
       "<style scoped>\n",
       "    .dataframe tbody tr th:only-of-type {\n",
       "        vertical-align: middle;\n",
       "    }\n",
       "\n",
       "    .dataframe tbody tr th {\n",
       "        vertical-align: top;\n",
       "    }\n",
       "\n",
       "    .dataframe thead th {\n",
       "        text-align: right;\n",
       "    }\n",
       "</style>\n",
       "<table border=\"1\" class=\"dataframe\">\n",
       "  <thead>\n",
       "    <tr style=\"text-align: right;\">\n",
       "      <th></th>\n",
       "      <th>CLIENTNUM</th>\n",
       "      <th>Attrition_Flag</th>\n",
       "      <th>Customer_Age</th>\n",
       "      <th>Gender</th>\n",
       "      <th>Dependent_count</th>\n",
       "      <th>Education_Level</th>\n",
       "      <th>Marital_Status</th>\n",
       "      <th>Income_Category</th>\n",
       "      <th>Card_Category</th>\n",
       "      <th>Months_on_book</th>\n",
       "      <th>...</th>\n",
       "      <th>Credit_Limit</th>\n",
       "      <th>Total_Revolving_Bal</th>\n",
       "      <th>Avg_Open_To_Buy</th>\n",
       "      <th>Total_Amt_Chng_Q4_Q1</th>\n",
       "      <th>Total_Trans_Amt</th>\n",
       "      <th>Total_Trans_Ct</th>\n",
       "      <th>Total_Ct_Chng_Q4_Q1</th>\n",
       "      <th>Avg_Utilization_Ratio</th>\n",
       "      <th>Naive_Bayes_Classifier_Attrition_Flag_Card_Category_Contacts_Count_12_mon_Dependent_count_Education_Level_Months_Inactive_12_mon_1</th>\n",
       "      <th>Naive_Bayes_Classifier_Attrition_Flag_Card_Category_Contacts_Count_12_mon_Dependent_count_Education_Level_Months_Inactive_12_mon_2</th>\n",
       "    </tr>\n",
       "  </thead>\n",
       "  <tbody>\n",
       "    <tr>\n",
       "      <th>0</th>\n",
       "      <td>768805383</td>\n",
       "      <td>Existing Customer</td>\n",
       "      <td>45</td>\n",
       "      <td>M</td>\n",
       "      <td>3</td>\n",
       "      <td>High School</td>\n",
       "      <td>Married</td>\n",
       "      <td>$60K - $80K</td>\n",
       "      <td>Blue</td>\n",
       "      <td>39</td>\n",
       "      <td>...</td>\n",
       "      <td>12691.0</td>\n",
       "      <td>777</td>\n",
       "      <td>11914.0</td>\n",
       "      <td>1.335</td>\n",
       "      <td>1144</td>\n",
       "      <td>42</td>\n",
       "      <td>1.625</td>\n",
       "      <td>0.061</td>\n",
       "      <td>0.000093</td>\n",
       "      <td>0.999910</td>\n",
       "    </tr>\n",
       "    <tr>\n",
       "      <th>1</th>\n",
       "      <td>818770008</td>\n",
       "      <td>Existing Customer</td>\n",
       "      <td>49</td>\n",
       "      <td>F</td>\n",
       "      <td>5</td>\n",
       "      <td>Graduate</td>\n",
       "      <td>Single</td>\n",
       "      <td>Less than $40K</td>\n",
       "      <td>Blue</td>\n",
       "      <td>44</td>\n",
       "      <td>...</td>\n",
       "      <td>8256.0</td>\n",
       "      <td>864</td>\n",
       "      <td>7392.0</td>\n",
       "      <td>1.541</td>\n",
       "      <td>1291</td>\n",
       "      <td>33</td>\n",
       "      <td>3.714</td>\n",
       "      <td>0.105</td>\n",
       "      <td>0.000057</td>\n",
       "      <td>0.999940</td>\n",
       "    </tr>\n",
       "    <tr>\n",
       "      <th>2</th>\n",
       "      <td>713982108</td>\n",
       "      <td>Existing Customer</td>\n",
       "      <td>51</td>\n",
       "      <td>M</td>\n",
       "      <td>3</td>\n",
       "      <td>Graduate</td>\n",
       "      <td>Married</td>\n",
       "      <td>$80K - $120K</td>\n",
       "      <td>Blue</td>\n",
       "      <td>36</td>\n",
       "      <td>...</td>\n",
       "      <td>3418.0</td>\n",
       "      <td>0</td>\n",
       "      <td>3418.0</td>\n",
       "      <td>2.594</td>\n",
       "      <td>1887</td>\n",
       "      <td>20</td>\n",
       "      <td>2.333</td>\n",
       "      <td>0.000</td>\n",
       "      <td>0.000021</td>\n",
       "      <td>0.999980</td>\n",
       "    </tr>\n",
       "    <tr>\n",
       "      <th>3</th>\n",
       "      <td>769911858</td>\n",
       "      <td>Existing Customer</td>\n",
       "      <td>40</td>\n",
       "      <td>F</td>\n",
       "      <td>4</td>\n",
       "      <td>High School</td>\n",
       "      <td>Unknown</td>\n",
       "      <td>Less than $40K</td>\n",
       "      <td>Blue</td>\n",
       "      <td>34</td>\n",
       "      <td>...</td>\n",
       "      <td>3313.0</td>\n",
       "      <td>2517</td>\n",
       "      <td>796.0</td>\n",
       "      <td>1.405</td>\n",
       "      <td>1171</td>\n",
       "      <td>20</td>\n",
       "      <td>2.333</td>\n",
       "      <td>0.760</td>\n",
       "      <td>0.000134</td>\n",
       "      <td>0.999870</td>\n",
       "    </tr>\n",
       "    <tr>\n",
       "      <th>4</th>\n",
       "      <td>709106358</td>\n",
       "      <td>Existing Customer</td>\n",
       "      <td>40</td>\n",
       "      <td>M</td>\n",
       "      <td>3</td>\n",
       "      <td>Uneducated</td>\n",
       "      <td>Married</td>\n",
       "      <td>$60K - $80K</td>\n",
       "      <td>Blue</td>\n",
       "      <td>21</td>\n",
       "      <td>...</td>\n",
       "      <td>4716.0</td>\n",
       "      <td>0</td>\n",
       "      <td>4716.0</td>\n",
       "      <td>2.175</td>\n",
       "      <td>816</td>\n",
       "      <td>28</td>\n",
       "      <td>2.500</td>\n",
       "      <td>0.000</td>\n",
       "      <td>0.000022</td>\n",
       "      <td>0.999980</td>\n",
       "    </tr>\n",
       "    <tr>\n",
       "      <th>...</th>\n",
       "      <td>...</td>\n",
       "      <td>...</td>\n",
       "      <td>...</td>\n",
       "      <td>...</td>\n",
       "      <td>...</td>\n",
       "      <td>...</td>\n",
       "      <td>...</td>\n",
       "      <td>...</td>\n",
       "      <td>...</td>\n",
       "      <td>...</td>\n",
       "      <td>...</td>\n",
       "      <td>...</td>\n",
       "      <td>...</td>\n",
       "      <td>...</td>\n",
       "      <td>...</td>\n",
       "      <td>...</td>\n",
       "      <td>...</td>\n",
       "      <td>...</td>\n",
       "      <td>...</td>\n",
       "      <td>...</td>\n",
       "      <td>...</td>\n",
       "    </tr>\n",
       "    <tr>\n",
       "      <th>10122</th>\n",
       "      <td>772366833</td>\n",
       "      <td>Existing Customer</td>\n",
       "      <td>50</td>\n",
       "      <td>M</td>\n",
       "      <td>2</td>\n",
       "      <td>Graduate</td>\n",
       "      <td>Single</td>\n",
       "      <td>$40K - $60K</td>\n",
       "      <td>Blue</td>\n",
       "      <td>40</td>\n",
       "      <td>...</td>\n",
       "      <td>4003.0</td>\n",
       "      <td>1851</td>\n",
       "      <td>2152.0</td>\n",
       "      <td>0.703</td>\n",
       "      <td>15476</td>\n",
       "      <td>117</td>\n",
       "      <td>0.857</td>\n",
       "      <td>0.462</td>\n",
       "      <td>0.000191</td>\n",
       "      <td>0.999810</td>\n",
       "    </tr>\n",
       "    <tr>\n",
       "      <th>10123</th>\n",
       "      <td>710638233</td>\n",
       "      <td>Attrited Customer</td>\n",
       "      <td>41</td>\n",
       "      <td>M</td>\n",
       "      <td>2</td>\n",
       "      <td>Unknown</td>\n",
       "      <td>Divorced</td>\n",
       "      <td>$40K - $60K</td>\n",
       "      <td>Blue</td>\n",
       "      <td>25</td>\n",
       "      <td>...</td>\n",
       "      <td>4277.0</td>\n",
       "      <td>2186</td>\n",
       "      <td>2091.0</td>\n",
       "      <td>0.804</td>\n",
       "      <td>8764</td>\n",
       "      <td>69</td>\n",
       "      <td>0.683</td>\n",
       "      <td>0.511</td>\n",
       "      <td>0.995270</td>\n",
       "      <td>0.004729</td>\n",
       "    </tr>\n",
       "    <tr>\n",
       "      <th>10124</th>\n",
       "      <td>716506083</td>\n",
       "      <td>Attrited Customer</td>\n",
       "      <td>44</td>\n",
       "      <td>F</td>\n",
       "      <td>1</td>\n",
       "      <td>High School</td>\n",
       "      <td>Married</td>\n",
       "      <td>Less than $40K</td>\n",
       "      <td>Blue</td>\n",
       "      <td>36</td>\n",
       "      <td>...</td>\n",
       "      <td>5409.0</td>\n",
       "      <td>0</td>\n",
       "      <td>5409.0</td>\n",
       "      <td>0.819</td>\n",
       "      <td>10291</td>\n",
       "      <td>60</td>\n",
       "      <td>0.818</td>\n",
       "      <td>0.000</td>\n",
       "      <td>0.997880</td>\n",
       "      <td>0.002118</td>\n",
       "    </tr>\n",
       "    <tr>\n",
       "      <th>10125</th>\n",
       "      <td>717406983</td>\n",
       "      <td>Attrited Customer</td>\n",
       "      <td>30</td>\n",
       "      <td>M</td>\n",
       "      <td>2</td>\n",
       "      <td>Graduate</td>\n",
       "      <td>Unknown</td>\n",
       "      <td>$40K - $60K</td>\n",
       "      <td>Blue</td>\n",
       "      <td>36</td>\n",
       "      <td>...</td>\n",
       "      <td>5281.0</td>\n",
       "      <td>0</td>\n",
       "      <td>5281.0</td>\n",
       "      <td>0.535</td>\n",
       "      <td>8395</td>\n",
       "      <td>62</td>\n",
       "      <td>0.722</td>\n",
       "      <td>0.000</td>\n",
       "      <td>0.996710</td>\n",
       "      <td>0.003294</td>\n",
       "    </tr>\n",
       "    <tr>\n",
       "      <th>10126</th>\n",
       "      <td>714337233</td>\n",
       "      <td>Attrited Customer</td>\n",
       "      <td>43</td>\n",
       "      <td>F</td>\n",
       "      <td>2</td>\n",
       "      <td>Graduate</td>\n",
       "      <td>Married</td>\n",
       "      <td>Less than $40K</td>\n",
       "      <td>Silver</td>\n",
       "      <td>25</td>\n",
       "      <td>...</td>\n",
       "      <td>10388.0</td>\n",
       "      <td>1961</td>\n",
       "      <td>8427.0</td>\n",
       "      <td>0.703</td>\n",
       "      <td>10294</td>\n",
       "      <td>61</td>\n",
       "      <td>0.649</td>\n",
       "      <td>0.189</td>\n",
       "      <td>0.996620</td>\n",
       "      <td>0.003377</td>\n",
       "    </tr>\n",
       "  </tbody>\n",
       "</table>\n",
       "<p>10127 rows × 23 columns</p>\n",
       "</div>"
      ],
      "text/plain": [
       "       CLIENTNUM     Attrition_Flag  Customer_Age Gender  Dependent_count  \\\n",
       "0      768805383  Existing Customer            45      M                3   \n",
       "1      818770008  Existing Customer            49      F                5   \n",
       "2      713982108  Existing Customer            51      M                3   \n",
       "3      769911858  Existing Customer            40      F                4   \n",
       "4      709106358  Existing Customer            40      M                3   \n",
       "...          ...                ...           ...    ...              ...   \n",
       "10122  772366833  Existing Customer            50      M                2   \n",
       "10123  710638233  Attrited Customer            41      M                2   \n",
       "10124  716506083  Attrited Customer            44      F                1   \n",
       "10125  717406983  Attrited Customer            30      M                2   \n",
       "10126  714337233  Attrited Customer            43      F                2   \n",
       "\n",
       "      Education_Level Marital_Status Income_Category Card_Category  \\\n",
       "0         High School        Married     $60K - $80K          Blue   \n",
       "1            Graduate         Single  Less than $40K          Blue   \n",
       "2            Graduate        Married    $80K - $120K          Blue   \n",
       "3         High School        Unknown  Less than $40K          Blue   \n",
       "4          Uneducated        Married     $60K - $80K          Blue   \n",
       "...               ...            ...             ...           ...   \n",
       "10122        Graduate         Single     $40K - $60K          Blue   \n",
       "10123         Unknown       Divorced     $40K - $60K          Blue   \n",
       "10124     High School        Married  Less than $40K          Blue   \n",
       "10125        Graduate        Unknown     $40K - $60K          Blue   \n",
       "10126        Graduate        Married  Less than $40K        Silver   \n",
       "\n",
       "       Months_on_book  ...  Credit_Limit  Total_Revolving_Bal  \\\n",
       "0                  39  ...       12691.0                  777   \n",
       "1                  44  ...        8256.0                  864   \n",
       "2                  36  ...        3418.0                    0   \n",
       "3                  34  ...        3313.0                 2517   \n",
       "4                  21  ...        4716.0                    0   \n",
       "...               ...  ...           ...                  ...   \n",
       "10122              40  ...        4003.0                 1851   \n",
       "10123              25  ...        4277.0                 2186   \n",
       "10124              36  ...        5409.0                    0   \n",
       "10125              36  ...        5281.0                    0   \n",
       "10126              25  ...       10388.0                 1961   \n",
       "\n",
       "       Avg_Open_To_Buy  Total_Amt_Chng_Q4_Q1  Total_Trans_Amt  Total_Trans_Ct  \\\n",
       "0              11914.0                 1.335             1144              42   \n",
       "1               7392.0                 1.541             1291              33   \n",
       "2               3418.0                 2.594             1887              20   \n",
       "3                796.0                 1.405             1171              20   \n",
       "4               4716.0                 2.175              816              28   \n",
       "...                ...                   ...              ...             ...   \n",
       "10122           2152.0                 0.703            15476             117   \n",
       "10123           2091.0                 0.804             8764              69   \n",
       "10124           5409.0                 0.819            10291              60   \n",
       "10125           5281.0                 0.535             8395              62   \n",
       "10126           8427.0                 0.703            10294              61   \n",
       "\n",
       "       Total_Ct_Chng_Q4_Q1  Avg_Utilization_Ratio  \\\n",
       "0                    1.625                  0.061   \n",
       "1                    3.714                  0.105   \n",
       "2                    2.333                  0.000   \n",
       "3                    2.333                  0.760   \n",
       "4                    2.500                  0.000   \n",
       "...                    ...                    ...   \n",
       "10122                0.857                  0.462   \n",
       "10123                0.683                  0.511   \n",
       "10124                0.818                  0.000   \n",
       "10125                0.722                  0.000   \n",
       "10126                0.649                  0.189   \n",
       "\n",
       "       Naive_Bayes_Classifier_Attrition_Flag_Card_Category_Contacts_Count_12_mon_Dependent_count_Education_Level_Months_Inactive_12_mon_1  \\\n",
       "0                                               0.000093                                                                                    \n",
       "1                                               0.000057                                                                                    \n",
       "2                                               0.000021                                                                                    \n",
       "3                                               0.000134                                                                                    \n",
       "4                                               0.000022                                                                                    \n",
       "...                                                  ...                                                                                    \n",
       "10122                                           0.000191                                                                                    \n",
       "10123                                           0.995270                                                                                    \n",
       "10124                                           0.997880                                                                                    \n",
       "10125                                           0.996710                                                                                    \n",
       "10126                                           0.996620                                                                                    \n",
       "\n",
       "       Naive_Bayes_Classifier_Attrition_Flag_Card_Category_Contacts_Count_12_mon_Dependent_count_Education_Level_Months_Inactive_12_mon_2  \n",
       "0                                               0.999910                                                                                   \n",
       "1                                               0.999940                                                                                   \n",
       "2                                               0.999980                                                                                   \n",
       "3                                               0.999870                                                                                   \n",
       "4                                               0.999980                                                                                   \n",
       "...                                                  ...                                                                                   \n",
       "10122                                           0.999810                                                                                   \n",
       "10123                                           0.004729                                                                                   \n",
       "10124                                           0.002118                                                                                   \n",
       "10125                                           0.003294                                                                                   \n",
       "10126                                           0.003377                                                                                   \n",
       "\n",
       "[10127 rows x 23 columns]"
      ]
     },
     "execution_count": 7,
     "metadata": {},
     "output_type": "execute_result"
    }
   ],
   "source": [
    "import pandas as pd\n",
    "df = pd.read_csv('BankChurners.csv')\n",
    "df"
   ]
  },
  {
   "cell_type": "code",
   "execution_count": 9,
   "id": "4f3c767b-3991-4aef-8850-8fec63fc1574",
   "metadata": {},
   "outputs": [],
   "source": [
    "# Replace 'male' with 1 and 'female' with 0\n",
    "df['Gender'] = df['Gender'].replace({'M': 1, 'F': 0})"
   ]
  },
  {
   "cell_type": "code",
   "execution_count": 11,
   "id": "12337a7c-e991-47a0-b4b1-5924098dd63a",
   "metadata": {},
   "outputs": [],
   "source": [
    "#Drop the last 2 column\n",
    "df.drop(columns=['Naive_Bayes_Classifier_Attrition_Flag_Card_Category_Contacts_Count_12_mon_Dependent_count_Education_Level_Months_Inactive_12_mon_2'], inplace=True)"
   ]
  },
  {
   "cell_type": "code",
   "execution_count": 13,
   "id": "9e40806c-f7f9-4dcb-8af1-2a41327bbe83",
   "metadata": {},
   "outputs": [],
   "source": [
    "df.drop(columns=['Naive_Bayes_Classifier_Attrition_Flag_Card_Category_Contacts_Count_12_mon_Dependent_count_Education_Level_Months_Inactive_12_mon_1'], inplace=True)"
   ]
  },
  {
   "cell_type": "code",
   "execution_count": 37,
   "id": "058835cc-f022-4e43-bada-82af764d808e",
   "metadata": {},
   "outputs": [],
   "source": [
    "df.drop(columns=['CLIENTNUM'], inplace=True)"
   ]
  },
  {
   "cell_type": "code",
   "execution_count": 19,
   "id": "908e6734-4640-4ea4-986c-63c8037b8b7b",
   "metadata": {},
   "outputs": [
    {
     "name": "stdout",
     "output_type": "stream",
     "text": [
      "0        1.059903\n",
      "1       -0.943389\n",
      "2        1.059903\n",
      "3       -0.943389\n",
      "4        1.059903\n",
      "           ...   \n",
      "10122    1.059903\n",
      "10123    1.059903\n",
      "10124   -0.943389\n",
      "10125    1.059903\n",
      "10126   -0.943389\n",
      "Name: Gender-Z-Score, Length: 10127, dtype: float64\n"
     ]
    }
   ],
   "source": [
    "#Gender Z score\n",
    "gendermean = df['Gender'].mean()\n",
    "genderstd_dev = df['Gender'].std()\n",
    "df['Gender-Z-Score'] = (df['Gender'] - gendermean) / genderstd_dev\n",
    "print(df['Gender-Z-Score'] )"
   ]
  },
  {
   "cell_type": "code",
   "execution_count": 39,
   "id": "230084ee-8f90-4f59-b831-e360b05e5c1c",
   "metadata": {},
   "outputs": [],
   "source": [
    "df['Attrition_Flag'] = df['Attrition_Flag'].replace({'Existing Customer': 1, 'Attrited Customer': 0})"
   ]
  },
  {
   "cell_type": "code",
   "execution_count": 45,
   "id": "e4aa148a-e87b-42da-b320-4342c2f4a676",
   "metadata": {},
   "outputs": [
    {
     "name": "stdout",
     "output_type": "stream",
     "text": [
      "0        0.437485\n",
      "1        0.437485\n",
      "2        0.437485\n",
      "3        0.437485\n",
      "4        0.437485\n",
      "           ...   \n",
      "10122    0.437485\n",
      "10123   -2.285569\n",
      "10124   -2.285569\n",
      "10125   -2.285569\n",
      "10126   -2.285569\n",
      "Name: Attrition_Flag-Z-Score, Length: 10127, dtype: float64\n"
     ]
    }
   ],
   "source": [
    "#Attrition_Flag Z score\n",
    "Attrition_Flagmean = df['Attrition_Flag'].mean()\n",
    "Attrition_Flagstd_dev = df['Attrition_Flag'].std()\n",
    "df['Attrition_Flag-Z-Score'] = (df['Attrition_Flag'] - Attrition_Flagmean) / Attrition_Flagstd_dev\n",
    "print(df['Attrition_Flag-Z-Score'] )"
   ]
  },
  {
   "cell_type": "code",
   "execution_count": 41,
   "id": "e0bd7c43-df66-426b-a41b-5945f913c70c",
   "metadata": {},
   "outputs": [
    {
     "name": "stdout",
     "output_type": "stream",
     "text": [
      "0       -0.165397\n",
      "1        0.333554\n",
      "2        0.583030\n",
      "3       -0.789087\n",
      "4       -0.789087\n",
      "           ...   \n",
      "10122    0.458292\n",
      "10123   -0.664349\n",
      "10124   -0.290135\n",
      "10125   -2.036465\n",
      "10126   -0.414873\n",
      "Name: Customer_Age-Z-Score, Length: 10127, dtype: float64\n"
     ]
    }
   ],
   "source": [
    "#Customer_Age Z score\n",
    "Customer_Agemean = df['Customer_Age'].mean()\n",
    "Customer_Agestd_dev = df['Customer_Age'].std()\n",
    "df['Customer_Age-Z-Score'] = (df['Customer_Age'] - Customer_Agemean) / Customer_Agestd_dev\n",
    "print(df['Customer_Age-Z-Score'])"
   ]
  },
  {
   "cell_type": "code",
   "execution_count": 47,
   "id": "112a2f9d-9962-4502-9f87-69725798bbde",
   "metadata": {},
   "outputs": [
    {
     "name": "stdout",
     "output_type": "stream",
     "text": [
      "0        0.503343\n",
      "1        2.043098\n",
      "2        0.503343\n",
      "3        1.273221\n",
      "4        0.503343\n",
      "           ...   \n",
      "10122   -0.266534\n",
      "10123   -0.266534\n",
      "10124   -1.036411\n",
      "10125   -0.266534\n",
      "10126   -0.266534\n",
      "Name: Dependent_count-Z-Score, Length: 10127, dtype: float64\n"
     ]
    }
   ],
   "source": [
    "#Dependent_count Z score\n",
    "Dependent_countmean = df['Dependent_count'].mean()\n",
    "Dependent_countstd_dev = df['Dependent_count'].std()\n",
    "df['Dependent_count-Z-Score'] = (df['Dependent_count'] - Dependent_countmean) / Dependent_countstd_dev\n",
    "print(df['Dependent_count-Z-Score'])"
   ]
  },
  {
   "cell_type": "code",
   "execution_count": 53,
   "id": "07eabe55-f726-48ef-95ab-0e61683cdfd7",
   "metadata": {},
   "outputs": [
    {
     "name": "stdout",
     "output_type": "stream",
     "text": [
      "0       -0.270255\n",
      "1        0.340927\n",
      "2        0.340927\n",
      "3       -0.270255\n",
      "4       -0.881438\n",
      "           ...   \n",
      "10122    0.340927\n",
      "10123   -1.492621\n",
      "10124   -0.270255\n",
      "10125    0.340927\n",
      "10126    0.340927\n",
      "Name: Education_Level-Z-Score, Length: 10127, dtype: float64\n"
     ]
    }
   ],
   "source": [
    "#Education_Level\n",
    "# Replace 'male' with 1 and 'female' with 0\n",
    "df['Education_Level'] = df['Education_Level'].replace({'Unknown': 0, 'Uneducated': 1,'Post-Graduate': 4,'High School': 2,'Graduate': 3,\n",
    "                                                       'College':5,'Doctorate':6})\n",
    "# Education-Level -Z-score\n",
    "Education_Levelmean = df['Education_Level'].mean()\n",
    "Education_Levelstd_dev = df['Education_Level'].std()\n",
    "df['Education_Level-Z-Score'] = (df['Education_Level'] - Education_Levelmean) / Education_Levelstd_dev\n",
    "print(df['Education_Level-Z-Score'])"
   ]
  },
  {
   "cell_type": "code",
   "execution_count": 59,
   "id": "861f7ef7-0da2-449b-93c8-f0517147d9e9",
   "metadata": {},
   "outputs": [
    {
     "name": "stdout",
     "output_type": "stream",
     "text": [
      "0        0.628097\n",
      "1       -0.727270\n",
      "2        0.628097\n",
      "3       -2.082636\n",
      "4        0.628097\n",
      "           ...   \n",
      "10122   -0.727270\n",
      "10123    1.983463\n",
      "10124    0.628097\n",
      "10125   -2.082636\n",
      "10126    0.628097\n",
      "Name: Marital_Status-Z-Score, Length: 10127, dtype: float64\n"
     ]
    }
   ],
   "source": [
    "df['Marital_Status'] = df['Marital_Status'].replace({'Unknown': 0, 'Single': 1,'Married':2,'Divorced':3 })\n",
    "# Marital_Status -Z-score\n",
    "Marital_Statusmean = df['Marital_Status'].mean()\n",
    "Marital_Statusstd_dev = df['Marital_Status'].std()\n",
    "df['Marital_Status-Z-Score'] = (df['Marital_Status'] - Marital_Statusmean) / Marital_Statusstd_dev\n",
    "print(df['Marital_Status-Z-Score'])"
   ]
  },
  {
   "cell_type": "code",
   "execution_count": 71,
   "id": "be5d3ce2-47b2-43f9-8b88-897bb38054c1",
   "metadata": {},
   "outputs": [
    {
     "name": "stdout",
     "output_type": "stream",
     "text": [
      "0        0.812053\n",
      "1       -0.711693\n",
      "2        0.812053\n",
      "3       -0.711693\n",
      "4        0.812053\n",
      "           ...   \n",
      "10122    0.050180\n",
      "10123    0.050180\n",
      "10124   -0.711693\n",
      "10125    0.050180\n",
      "10126   -0.711693\n",
      "Name: Income_Category-Z-Score, Length: 10127, dtype: float64\n"
     ]
    }
   ],
   "source": [
    "# Income_Category\n",
    "df['Income_Category'] = df['Income_Category'].replace({'Unknown': 0, 'Less than $40K': 1,'$40K - $60K':2,'$60K - $80K':3\n",
    "                                                      ,'$80K - $120K':4,'$120K +':5})\n",
    "# Income_Category -Z-score\n",
    "Income_Categorymean = df['Income_Category'].mean()\n",
    "Income_Categorystd_dev = df['Income_Category'].std()\n",
    "df['Income_Category-Z-Score'] = (df['Income_Category'] - Income_Categorymean) / Income_Categorystd_dev\n",
    "print(df['Income_Category-Z-Score'])"
   ]
  },
  {
   "cell_type": "code",
   "execution_count": 75,
   "id": "f0367aa3-fb1b-4048-8bad-459f6f7f80c4",
   "metadata": {},
   "outputs": [
    {
     "name": "stdout",
     "output_type": "stream",
     "text": [
      "0       -0.250574\n",
      "1       -0.250574\n",
      "2       -0.250574\n",
      "3       -0.250574\n",
      "4       -0.250574\n",
      "           ...   \n",
      "10122   -0.250574\n",
      "10123   -0.250574\n",
      "10124   -0.250574\n",
      "10125   -0.250574\n",
      "10126    2.745371\n",
      "Name: Card_Category-Z-Score, Length: 10127, dtype: float64\n"
     ]
    }
   ],
   "source": [
    "#Card_Category\n",
    "df['Card_Category'] = df['Card_Category'].replace({'Blue': 0, 'Silver': 1, 'Gold':2, 'Platinum':3})\n",
    "#Card_Category\n",
    "Card_Categorymean = df['Card_Category'].mean()\n",
    "Card_Categorystd_dev = df['Card_Category'].std()\n",
    "df['Card_Category-Z-Score'] = (df['Card_Category'] - Card_Categorymean) / Card_Categorystd_dev\n",
    "print(df['Card_Category-Z-Score'])"
   ]
  },
  {
   "cell_type": "code",
   "execution_count": 77,
   "id": "e9c26335-96b6-4dbd-b0ff-40784372cb56",
   "metadata": {},
   "outputs": [
    {
     "name": "stdout",
     "output_type": "stream",
     "text": [
      "0        0.384602\n",
      "1        1.010665\n",
      "2        0.008964\n",
      "3       -0.241461\n",
      "4       -1.869225\n",
      "           ...   \n",
      "10122    0.509814\n",
      "10123   -1.368375\n",
      "10124    0.008964\n",
      "10125    0.008964\n",
      "10126   -1.368375\n",
      "Name: Months_on_book-Z-Score, Length: 10127, dtype: float64\n"
     ]
    }
   ],
   "source": [
    "#Months_on_book\n",
    "Months_on_bookmean = df['Months_on_book'].mean()\n",
    "Months_on_bookstd_dev = df['Months_on_book'].std()\n",
    "df['Months_on_book-Z-Score'] = (df['Months_on_book'] - Months_on_bookmean) / Months_on_bookstd_dev\n",
    "print(df['Months_on_book-Z-Score'])"
   ]
  },
  {
   "cell_type": "code",
   "execution_count": 81,
   "id": "04090a41-52ee-4e4e-9355-906a7dd4b903",
   "metadata": {},
   "outputs": [
    {
     "name": "stdout",
     "output_type": "stream",
     "text": [
      "0        0.763905\n",
      "1        1.407237\n",
      "2        0.120573\n",
      "3       -0.522759\n",
      "4        0.763905\n",
      "           ...   \n",
      "10122   -0.522759\n",
      "10123    0.120573\n",
      "10124    0.763905\n",
      "10125    0.120573\n",
      "10126    1.407237\n",
      "Name: Total_Relationship_Count-Z-Score, Length: 10127, dtype: float64\n"
     ]
    }
   ],
   "source": [
    "#Total_Relationship_Count\n",
    "Total_Relationship_Countmean = df['Total_Relationship_Count'].mean()\n",
    "Total_Relationship_Countstd_dev = df['Total_Relationship_Count'].std()\n",
    "df['Total_Relationship_Count-Z-Score'] = (df['Total_Relationship_Count'] - Total_Relationship_Countmean) / Total_Relationship_Countstd_dev\n",
    "print(df['Total_Relationship_Count-Z-Score'])"
   ]
  },
  {
   "cell_type": "code",
   "execution_count": 83,
   "id": "a5a6bc21-7361-4a26-9bb7-fe02ec5fa598",
   "metadata": {},
   "outputs": [
    {
     "name": "stdout",
     "output_type": "stream",
     "text": [
      "0       -1.327071\n",
      "1       -1.327071\n",
      "2       -1.327071\n",
      "3        1.641397\n",
      "4       -1.327071\n",
      "           ...   \n",
      "10122   -0.337581\n",
      "10123   -0.337581\n",
      "10124    0.651908\n",
      "10125    0.651908\n",
      "10126   -0.337581\n",
      "Name: Months_Inactive_12_mon-Z-Score, Length: 10127, dtype: float64\n"
     ]
    }
   ],
   "source": [
    "#Months_Inactive_12_mon\n",
    "Months_Inactive_12_monmean = df['Months_Inactive_12_mon'].mean()\n",
    "Months_Inactive_12_monstd_dev = df['Months_Inactive_12_mon'].std()\n",
    "df['Months_Inactive_12_mon-Z-Score'] = (df['Months_Inactive_12_mon'] - Months_Inactive_12_monmean) / Months_Inactive_12_monstd_dev\n",
    "print(df['Months_Inactive_12_mon-Z-Score'])"
   ]
  },
  {
   "cell_type": "code",
   "execution_count": 85,
   "id": "37672f13-0a7e-43fc-9f47-c04ea4b11fd2",
   "metadata": {},
   "outputs": [
    {
     "name": "stdout",
     "output_type": "stream",
     "text": [
      "0        0.492379\n",
      "1       -0.411596\n",
      "2       -2.219546\n",
      "3       -1.315571\n",
      "4       -2.219546\n",
      "           ...   \n",
      "10122    0.492379\n",
      "10123    0.492379\n",
      "10124    1.396355\n",
      "10125    0.492379\n",
      "10126    1.396355\n",
      "Name: Contacts_Count_12_mon-Z-Score, Length: 10127, dtype: float64\n"
     ]
    }
   ],
   "source": [
    "#Contacts_Count_12_mon\n",
    "Contacts_Count_12_monmean = df['Contacts_Count_12_mon'].mean()\n",
    "Contacts_Count_12_monstd_dev = df['Contacts_Count_12_mon'].std()\n",
    "df['Contacts_Count_12_mon-Z-Score'] = (df['Contacts_Count_12_mon'] - Contacts_Count_12_monmean) / Contacts_Count_12_monstd_dev\n",
    "print(df['Contacts_Count_12_mon-Z-Score'])"
   ]
  },
  {
   "cell_type": "code",
   "execution_count": 89,
   "id": "2f9fb27e-9826-420e-885b-133a10f44fb0",
   "metadata": {},
   "outputs": [
    {
     "name": "stdout",
     "output_type": "stream",
     "text": [
      "0        0.446600\n",
      "1       -0.041365\n",
      "2       -0.573669\n",
      "3       -0.585222\n",
      "4       -0.430856\n",
      "           ...   \n",
      "10122   -0.509304\n",
      "10123   -0.479157\n",
      "10124   -0.354608\n",
      "10125   -0.368691\n",
      "10126    0.193210\n",
      "Name: Credit_Limit-Z-Score, Length: 10127, dtype: float64\n"
     ]
    }
   ],
   "source": [
    "#Credit_Limit\n",
    "Credit_Limitmean = df['Credit_Limit'].mean()\n",
    "Credit_Limitstd_dev = df['Credit_Limit'].std()\n",
    "df['Credit_Limit-Z-Score'] = (df['Credit_Limit'] - Credit_Limitmean) / Credit_Limitstd_dev\n",
    "print(df['Credit_Limit-Z-Score'])"
   ]
  },
  {
   "cell_type": "code",
   "execution_count": 91,
   "id": "f428d4ba-cdd0-416a-86b7-4cf7e54f8c36",
   "metadata": {},
   "outputs": [
    {
     "name": "stdout",
     "output_type": "stream",
     "text": [
      "0       -0.473399\n",
      "1       -0.366649\n",
      "2       -1.426788\n",
      "3        1.661604\n",
      "4       -1.426788\n",
      "           ...   \n",
      "10122    0.844413\n",
      "10123    1.255462\n",
      "10124   -1.426788\n",
      "10125   -1.426788\n",
      "10126    0.979384\n",
      "Name: Total_Revolving_Bal-Z-Score, Length: 10127, dtype: float64\n"
     ]
    }
   ],
   "source": [
    "#Total_Revolving_Bal\n",
    "Total_Revolving_Balmean = df['Total_Revolving_Bal'].mean()\n",
    "Total_Revolving_Balstd_dev = df['Total_Revolving_Bal'].std()\n",
    "df['Total_Revolving_Bal-Z-Score'] = (df['Total_Revolving_Bal'] - Total_Revolving_Balmean) / Total_Revolving_Balstd_dev\n",
    "print(df['Total_Revolving_Bal-Z-Score'])"
   ]
  },
  {
   "cell_type": "code",
   "execution_count": 93,
   "id": "415c27e0-49d8-432c-b457-62b6c4686da3",
   "metadata": {},
   "outputs": [
    {
     "name": "stdout",
     "output_type": "stream",
     "text": [
      "0        0.488947\n",
      "1       -0.008486\n",
      "2       -0.445636\n",
      "3       -0.734063\n",
      "4       -0.302853\n",
      "           ...   \n",
      "10122   -0.584900\n",
      "10123   -0.591610\n",
      "10124   -0.226621\n",
      "10125   -0.240701\n",
      "10126    0.105367\n",
      "Name: Avg_Open_To_Buy-Z-Score, Length: 10127, dtype: float64\n"
     ]
    }
   ],
   "source": [
    "#Avg_Open_To_Buy\n",
    "Avg_Open_To_Buymean = df['Avg_Open_To_Buy'].mean()\n",
    "Avg_Open_To_Buystd_dev = df['Avg_Open_To_Buy'].std()\n",
    "df['Avg_Open_To_Buy-Z-Score'] = (df['Avg_Open_To_Buy'] - Avg_Open_To_Buymean) / Avg_Open_To_Buystd_dev\n",
    "print(df['Avg_Open_To_Buy-Z-Score'])"
   ]
  },
  {
   "cell_type": "code",
   "execution_count": 97,
   "id": "1ddf7894-93a3-48b6-921b-769494fa6730",
   "metadata": {},
   "outputs": [
    {
     "name": "stdout",
     "output_type": "stream",
     "text": [
      "0        2.623365\n",
      "1        3.563117\n",
      "2        8.366801\n",
      "3        2.942698\n",
      "4        6.455363\n",
      "           ...   \n",
      "10122   -0.259758\n",
      "10123    0.200994\n",
      "10124    0.269423\n",
      "10125   -1.026157\n",
      "10126   -0.259758\n",
      "Name: Total_Amt_Chng_Q4_Q1-Z-Score, Length: 10127, dtype: float64\n"
     ]
    }
   ],
   "source": [
    "#Total_Amt_Chng_Q4_Q1\n",
    "Total_Amt_Chng_Q4_Q1mean = df['Total_Amt_Chng_Q4_Q1'].mean()\n",
    "Total_Amt_Chng_Q4_Q1std_dev = df['Total_Amt_Chng_Q4_Q1'].std()\n",
    "df['Total_Amt_Chng_Q4_Q1-Z-Score'] = (df['Total_Amt_Chng_Q4_Q1'] - Total_Amt_Chng_Q4_Q1mean) / Total_Amt_Chng_Q4_Q1std_dev\n",
    "print(df['Total_Amt_Chng_Q4_Q1-Z-Score'])"
   ]
  },
  {
   "cell_type": "code",
   "execution_count": 99,
   "id": "2608f7fb-ac2b-4f15-9788-a5b8089431c5",
   "metadata": {},
   "outputs": [
    {
     "name": "stdout",
     "output_type": "stream",
     "text": [
      "0       -0.959659\n",
      "1       -0.916387\n",
      "2       -0.740945\n",
      "3       -0.951711\n",
      "4       -1.056211\n",
      "           ...   \n",
      "10122    3.259197\n",
      "10123    1.283411\n",
      "10124    1.732908\n",
      "10125    1.174790\n",
      "10126    1.733791\n",
      "Name: Total_Trans_Amt-Z-Score, Length: 10127, dtype: float64\n"
     ]
    }
   ],
   "source": [
    "#Total_Trans_Amt\n",
    "Total_Trans_Amtmean = df['Total_Trans_Amt'].mean()\n",
    "Total_Trans_Amtstd_dev = df['Total_Trans_Amt'].std()\n",
    "df['Total_Trans_Amt-Z-Score'] = (df['Total_Trans_Amt'] - Total_Trans_Amtmean) / Total_Trans_Amtstd_dev\n",
    "print(df['Total_Trans_Amt-Z-Score'])"
   ]
  },
  {
   "cell_type": "code",
   "execution_count": 101,
   "id": "072a84dd-c07f-4305-8d5a-c5ea7b78b07e",
   "metadata": {},
   "outputs": [
    {
     "name": "stdout",
     "output_type": "stream",
     "text": [
      "0       -0.973847\n",
      "1       -1.357273\n",
      "2       -1.911111\n",
      "3       -1.911111\n",
      "4       -1.570288\n",
      "           ...   \n",
      "10122    2.221372\n",
      "10123    0.176432\n",
      "10124   -0.206995\n",
      "10125   -0.121789\n",
      "10126   -0.164392\n",
      "Name: Total_Trans_Ct-Z-Score, Length: 10127, dtype: float64\n"
     ]
    }
   ],
   "source": [
    "#Total_Trans_Ct\n",
    "Total_Trans_Ctmean = df['Total_Trans_Ct'].mean()\n",
    "Total_Trans_Ctstd_dev = df['Total_Trans_Ct'].std()\n",
    "df['Total_Trans_Ct-Z-Score'] = (df['Total_Trans_Ct'] - Total_Trans_Ctmean) / Total_Trans_Ctstd_dev\n",
    "print(df['Total_Trans_Ct-Z-Score'])"
   ]
  },
  {
   "cell_type": "code",
   "execution_count": 103,
   "id": "b9b8bd5f-f86f-400d-8bbd-5efdb8c31250",
   "metadata": {},
   "outputs": [
    {
     "name": "stdout",
     "output_type": "stream",
     "text": [
      "0         3.833813\n",
      "1        12.607950\n",
      "2         6.807528\n",
      "3         6.807528\n",
      "4         7.508954\n",
      "           ...    \n",
      "10122     0.608089\n",
      "10123    -0.122739\n",
      "10124     0.444283\n",
      "10125     0.041068\n",
      "10126    -0.265544\n",
      "Name: Total_Ct_Chng_Q4_Q1-Z-Score, Length: 10127, dtype: float64\n"
     ]
    }
   ],
   "source": [
    "#Total_Ct_Chng_Q4_Q1\n",
    "Total_Ct_Chng_Q4_Q1mean = df['Total_Ct_Chng_Q4_Q1'].mean()\n",
    "Total_Ct_Chng_Q4_Q1std_dev = df['Total_Ct_Chng_Q4_Q1'].std()\n",
    "df['Total_Ct_Chng_Q4_Q1-Z-Score'] = (df['Total_Ct_Chng_Q4_Q1'] - Total_Ct_Chng_Q4_Q1mean) / Total_Ct_Chng_Q4_Q1std_dev\n",
    "print(df['Total_Ct_Chng_Q4_Q1-Z-Score'])"
   ]
  },
  {
   "cell_type": "code",
   "execution_count": 107,
   "id": "895d5a84-b5dd-4bdc-b714-e4660f3a20d8",
   "metadata": {},
   "outputs": [
    {
     "name": "stdout",
     "output_type": "stream",
     "text": [
      "0       -0.775844\n",
      "1       -0.616245\n",
      "2       -0.997106\n",
      "3        1.759599\n",
      "4       -0.997106\n",
      "           ...   \n",
      "10122    0.678681\n",
      "10123    0.856416\n",
      "10124   -0.997106\n",
      "10125   -0.997106\n",
      "10126   -0.311557\n",
      "Name: Avg_Utilization_Ratio-Z-Score, Length: 10127, dtype: float64\n"
     ]
    }
   ],
   "source": [
    "#Avg_Utilization_Ratio\n",
    "Avg_Utilization_Ratiomean = df['Avg_Utilization_Ratio'].mean()\n",
    "Avg_Utilization_Ratiostd_dev = df['Avg_Utilization_Ratio'].std()\n",
    "df['Avg_Utilization_Ratio-Z-Score'] = (df['Avg_Utilization_Ratio'] - Avg_Utilization_Ratiomean) / Avg_Utilization_Ratiostd_dev\n",
    "print(df['Avg_Utilization_Ratio-Z-Score'])"
   ]
  },
  {
   "cell_type": "code",
   "execution_count": null,
   "id": "461c3607-35b8-4f37-8a4f-bd23c6dffcbb",
   "metadata": {},
   "outputs": [],
   "source": []
  }
 ],
 "metadata": {
  "kernelspec": {
   "display_name": "Python 3 (ipykernel)",
   "language": "python",
   "name": "python3"
  },
  "language_info": {
   "codemirror_mode": {
    "name": "ipython",
    "version": 3
   },
   "file_extension": ".py",
   "mimetype": "text/x-python",
   "name": "python",
   "nbconvert_exporter": "python",
   "pygments_lexer": "ipython3",
   "version": "3.11.7"
  }
 },
 "nbformat": 4,
 "nbformat_minor": 5
}
